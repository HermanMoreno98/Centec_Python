{
  "nbformat": 4,
  "nbformat_minor": 0,
  "metadata": {
    "colab": {
      "provenance": [],
      "authorship_tag": "ABX9TyMPkZEWNWurp1VqJqsbYNjc",
      "include_colab_link": true
    },
    "kernelspec": {
      "name": "python3",
      "display_name": "Python 3"
    },
    "language_info": {
      "name": "python"
    }
  },
  "cells": [
    {
      "cell_type": "markdown",
      "metadata": {
        "id": "view-in-github",
        "colab_type": "text"
      },
      "source": [
        "<a href=\"https://colab.research.google.com/github/HermanMoreno98/Centec_Python/blob/main/Algoritmo_de_distancias_BALLTREE.ipynb\" target=\"_parent\"><img src=\"https://colab.research.google.com/assets/colab-badge.svg\" alt=\"Open In Colab\"/></a>"
      ]
    },
    {
      "cell_type": "code",
      "execution_count": null,
      "metadata": {
        "id": "Fc1OTn5KzSCt"
      },
      "outputs": [],
      "source": [
        "import pandas as pd\n",
        "import numpy as np\n",
        "from sklearn.neighbors import BallTree"
      ]
    },
    {
      "cell_type": "code",
      "source": [
        "df = pd.read_excel(\"colegios.xlsx\")"
      ],
      "metadata": {
        "id": "ImIZt8E0zeB5"
      },
      "execution_count": null,
      "outputs": []
    },
    {
      "cell_type": "code",
      "source": [
        "df.shape"
      ],
      "metadata": {
        "colab": {
          "base_uri": "https://localhost:8080/"
        },
        "id": "DXvkRFAZzeAB",
        "outputId": "26066658-1748-4f9d-c7a6-dc3757003d92"
      },
      "execution_count": null,
      "outputs": [
        {
          "output_type": "execute_result",
          "data": {
            "text/plain": [
              "(96910, 19)"
            ]
          },
          "metadata": {},
          "execution_count": 3
        }
      ]
    },
    {
      "cell_type": "code",
      "source": [
        "df_prueba = df[[\"Código Modular\",\"Latitud\",\"Longitud\"]]"
      ],
      "metadata": {
        "id": "oVlwEp2jzd-J"
      },
      "execution_count": null,
      "outputs": []
    },
    {
      "cell_type": "code",
      "source": [
        "df_prueba"
      ],
      "metadata": {
        "id": "R49ZSM0uzd7z"
      },
      "execution_count": null,
      "outputs": []
    },
    {
      "cell_type": "code",
      "source": [
        "for column in df_prueba[[\"Latitud\", \"Longitud\"]]:\n",
        "    rad = np.deg2rad(df_prueba[column].values)\n",
        "    df_prueba[f'{column}_rad'] = rad"
      ],
      "metadata": {
        "id": "hmy59Vnd0bAq",
        "colab": {
          "base_uri": "https://localhost:8080/"
        },
        "outputId": "35601017-d4f0-44ec-cf98-752734e772a8"
      },
      "execution_count": null,
      "outputs": [
        {
          "output_type": "stream",
          "name": "stderr",
          "text": [
            "<ipython-input-15-a860b5e6e0f3>:3: SettingWithCopyWarning: \n",
            "A value is trying to be set on a copy of a slice from a DataFrame.\n",
            "Try using .loc[row_indexer,col_indexer] = value instead\n",
            "\n",
            "See the caveats in the documentation: https://pandas.pydata.org/pandas-docs/stable/user_guide/indexing.html#returning-a-view-versus-a-copy\n",
            "  df_prueba[f'{column}_rad'] = rad\n",
            "<ipython-input-15-a860b5e6e0f3>:3: SettingWithCopyWarning: \n",
            "A value is trying to be set on a copy of a slice from a DataFrame.\n",
            "Try using .loc[row_indexer,col_indexer] = value instead\n",
            "\n",
            "See the caveats in the documentation: https://pandas.pydata.org/pandas-docs/stable/user_guide/indexing.html#returning-a-view-versus-a-copy\n",
            "  df_prueba[f'{column}_rad'] = rad\n"
          ]
        }
      ]
    },
    {
      "cell_type": "code",
      "source": [
        "ball = BallTree(df_prueba[[\"Latitud_rad\", \"Longitud_rad\"]].values, metric='haversine')\n",
        "# The amount of neighbors to return.\n",
        "k = 2\n",
        "######################## DISTANCIA FINAL ############################\n",
        "distances, indices = ball.query(df_prueba[[\"Latitud_rad\", \"Longitud_rad\"]].values, k = k)"
      ],
      "metadata": {
        "id": "xFhMUvYF0a-y"
      },
      "execution_count": null,
      "outputs": []
    },
    {
      "cell_type": "code",
      "source": [
        "distances, indices = ball.query(df_prueba[[\"Latitud_rad\", \"Longitud_rad\"]].values, k = 2)"
      ],
      "metadata": {
        "id": "dpi8rQO10a8q"
      },
      "execution_count": null,
      "outputs": []
    },
    {
      "cell_type": "code",
      "source": [
        "df_prueba[\"indices\"] = [x[1] for x in indices.tolist()]\n",
        "df_prueba[\"distances\"] = [x[1] for x in distances.tolist()]"
      ],
      "metadata": {
        "id": "L97KLoE20a6T",
        "colab": {
          "base_uri": "https://localhost:8080/"
        },
        "outputId": "83e2ce79-cd20-4c22-c97f-8d88969ff05f"
      },
      "execution_count": null,
      "outputs": [
        {
          "output_type": "stream",
          "name": "stderr",
          "text": [
            "<ipython-input-18-5434206117bf>:1: SettingWithCopyWarning: \n",
            "A value is trying to be set on a copy of a slice from a DataFrame.\n",
            "Try using .loc[row_indexer,col_indexer] = value instead\n",
            "\n",
            "See the caveats in the documentation: https://pandas.pydata.org/pandas-docs/stable/user_guide/indexing.html#returning-a-view-versus-a-copy\n",
            "  df_prueba[\"indices\"] = [x[1] for x in indices.tolist()]\n",
            "<ipython-input-18-5434206117bf>:2: SettingWithCopyWarning: \n",
            "A value is trying to be set on a copy of a slice from a DataFrame.\n",
            "Try using .loc[row_indexer,col_indexer] = value instead\n",
            "\n",
            "See the caveats in the documentation: https://pandas.pydata.org/pandas-docs/stable/user_guide/indexing.html#returning-a-view-versus-a-copy\n",
            "  df_prueba[\"distances\"] = [x[1] for x in distances.tolist()]\n"
          ]
        }
      ]
    },
    {
      "cell_type": "code",
      "source": [
        "df_prueba[\"Código Modular_2\"] = np.array(df_prueba.iloc[df_prueba.indices][\"Código Modular\"])"
      ],
      "metadata": {
        "id": "SSuB3SRK090M",
        "colab": {
          "base_uri": "https://localhost:8080/"
        },
        "outputId": "6fc1fe55-35dc-47c7-be4a-df0771e82703"
      },
      "execution_count": null,
      "outputs": [
        {
          "output_type": "stream",
          "name": "stderr",
          "text": [
            "<ipython-input-19-228592913da2>:1: SettingWithCopyWarning: \n",
            "A value is trying to be set on a copy of a slice from a DataFrame.\n",
            "Try using .loc[row_indexer,col_indexer] = value instead\n",
            "\n",
            "See the caveats in the documentation: https://pandas.pydata.org/pandas-docs/stable/user_guide/indexing.html#returning-a-view-versus-a-copy\n",
            "  df_prueba[\"Código Modular_2\"] = np.array(df_prueba.iloc[df_prueba.indices][\"Código Modular\"])\n"
          ]
        }
      ]
    },
    {
      "cell_type": "code",
      "source": [
        "df_prueba[\"distancia_metros\"] = np.array(df_prueba[\"distances\"])*6371007.1809"
      ],
      "metadata": {
        "id": "sbzGF7dG09xM",
        "colab": {
          "base_uri": "https://localhost:8080/"
        },
        "outputId": "c6f659d6-016f-4a2d-b78d-025f6329f0c7"
      },
      "execution_count": null,
      "outputs": [
        {
          "output_type": "stream",
          "name": "stderr",
          "text": [
            "<ipython-input-20-14db989d29ed>:1: SettingWithCopyWarning: \n",
            "A value is trying to be set on a copy of a slice from a DataFrame.\n",
            "Try using .loc[row_indexer,col_indexer] = value instead\n",
            "\n",
            "See the caveats in the documentation: https://pandas.pydata.org/pandas-docs/stable/user_guide/indexing.html#returning-a-view-versus-a-copy\n",
            "  df_prueba[\"distancia_metros\"] = np.array(df_prueba[\"distances\"])*6371007.1809\n"
          ]
        }
      ]
    },
    {
      "cell_type": "code",
      "source": [
        "df_prueba.head()"
      ],
      "metadata": {
        "id": "RrSQR5T209Lt",
        "colab": {
          "base_uri": "https://localhost:8080/",
          "height": 206
        },
        "outputId": "d7679150-1ab6-443b-8a19-ce4dda68a9f6"
      },
      "execution_count": null,
      "outputs": [
        {
          "output_type": "execute_result",
          "data": {
            "text/plain": [
              "   Código Modular  Latitud  Longitud  Latitud_rad  Longitud_rad  indices  \\\n",
              "0          257048 -6.23176 -77.87243    -0.108765     -1.359130        9   \n",
              "1          257055 -6.23159 -77.87002    -0.108762     -1.359088        7   \n",
              "2          257097 -6.22700 -77.87552    -0.108682     -1.359184       49   \n",
              "3          568097 -6.22935 -77.86464    -0.108723     -1.358994       44   \n",
              "4          667576 -6.22584 -77.86802    -0.108661     -1.359053       36   \n",
              "\n",
              "   distances  Código Modular_2  distancia_metros  \n",
              "0   0.000008            257337         49.074971  \n",
              "1   0.000008            257329         49.927018  \n",
              "2   0.000008           1761949         53.848609  \n",
              "3   0.000006           1391937         37.825578  \n",
              "4   0.000029           1735463        187.742184  "
            ],
            "text/html": [
              "\n",
              "  <div id=\"df-a8bd7057-aaf9-4340-a511-c9f8753e2448\">\n",
              "    <div class=\"colab-df-container\">\n",
              "      <div>\n",
              "<style scoped>\n",
              "    .dataframe tbody tr th:only-of-type {\n",
              "        vertical-align: middle;\n",
              "    }\n",
              "\n",
              "    .dataframe tbody tr th {\n",
              "        vertical-align: top;\n",
              "    }\n",
              "\n",
              "    .dataframe thead th {\n",
              "        text-align: right;\n",
              "    }\n",
              "</style>\n",
              "<table border=\"1\" class=\"dataframe\">\n",
              "  <thead>\n",
              "    <tr style=\"text-align: right;\">\n",
              "      <th></th>\n",
              "      <th>Código Modular</th>\n",
              "      <th>Latitud</th>\n",
              "      <th>Longitud</th>\n",
              "      <th>Latitud_rad</th>\n",
              "      <th>Longitud_rad</th>\n",
              "      <th>indices</th>\n",
              "      <th>distances</th>\n",
              "      <th>Código Modular_2</th>\n",
              "      <th>distancia_metros</th>\n",
              "    </tr>\n",
              "  </thead>\n",
              "  <tbody>\n",
              "    <tr>\n",
              "      <th>0</th>\n",
              "      <td>257048</td>\n",
              "      <td>-6.23176</td>\n",
              "      <td>-77.87243</td>\n",
              "      <td>-0.108765</td>\n",
              "      <td>-1.359130</td>\n",
              "      <td>9</td>\n",
              "      <td>0.000008</td>\n",
              "      <td>257337</td>\n",
              "      <td>49.074971</td>\n",
              "    </tr>\n",
              "    <tr>\n",
              "      <th>1</th>\n",
              "      <td>257055</td>\n",
              "      <td>-6.23159</td>\n",
              "      <td>-77.87002</td>\n",
              "      <td>-0.108762</td>\n",
              "      <td>-1.359088</td>\n",
              "      <td>7</td>\n",
              "      <td>0.000008</td>\n",
              "      <td>257329</td>\n",
              "      <td>49.927018</td>\n",
              "    </tr>\n",
              "    <tr>\n",
              "      <th>2</th>\n",
              "      <td>257097</td>\n",
              "      <td>-6.22700</td>\n",
              "      <td>-77.87552</td>\n",
              "      <td>-0.108682</td>\n",
              "      <td>-1.359184</td>\n",
              "      <td>49</td>\n",
              "      <td>0.000008</td>\n",
              "      <td>1761949</td>\n",
              "      <td>53.848609</td>\n",
              "    </tr>\n",
              "    <tr>\n",
              "      <th>3</th>\n",
              "      <td>568097</td>\n",
              "      <td>-6.22935</td>\n",
              "      <td>-77.86464</td>\n",
              "      <td>-0.108723</td>\n",
              "      <td>-1.358994</td>\n",
              "      <td>44</td>\n",
              "      <td>0.000006</td>\n",
              "      <td>1391937</td>\n",
              "      <td>37.825578</td>\n",
              "    </tr>\n",
              "    <tr>\n",
              "      <th>4</th>\n",
              "      <td>667576</td>\n",
              "      <td>-6.22584</td>\n",
              "      <td>-77.86802</td>\n",
              "      <td>-0.108661</td>\n",
              "      <td>-1.359053</td>\n",
              "      <td>36</td>\n",
              "      <td>0.000029</td>\n",
              "      <td>1735463</td>\n",
              "      <td>187.742184</td>\n",
              "    </tr>\n",
              "  </tbody>\n",
              "</table>\n",
              "</div>\n",
              "      <button class=\"colab-df-convert\" onclick=\"convertToInteractive('df-a8bd7057-aaf9-4340-a511-c9f8753e2448')\"\n",
              "              title=\"Convert this dataframe to an interactive table.\"\n",
              "              style=\"display:none;\">\n",
              "        \n",
              "  <svg xmlns=\"http://www.w3.org/2000/svg\" height=\"24px\"viewBox=\"0 0 24 24\"\n",
              "       width=\"24px\">\n",
              "    <path d=\"M0 0h24v24H0V0z\" fill=\"none\"/>\n",
              "    <path d=\"M18.56 5.44l.94 2.06.94-2.06 2.06-.94-2.06-.94-.94-2.06-.94 2.06-2.06.94zm-11 1L8.5 8.5l.94-2.06 2.06-.94-2.06-.94L8.5 2.5l-.94 2.06-2.06.94zm10 10l.94 2.06.94-2.06 2.06-.94-2.06-.94-.94-2.06-.94 2.06-2.06.94z\"/><path d=\"M17.41 7.96l-1.37-1.37c-.4-.4-.92-.59-1.43-.59-.52 0-1.04.2-1.43.59L10.3 9.45l-7.72 7.72c-.78.78-.78 2.05 0 2.83L4 21.41c.39.39.9.59 1.41.59.51 0 1.02-.2 1.41-.59l7.78-7.78 2.81-2.81c.8-.78.8-2.07 0-2.86zM5.41 20L4 18.59l7.72-7.72 1.47 1.35L5.41 20z\"/>\n",
              "  </svg>\n",
              "      </button>\n",
              "      \n",
              "  <style>\n",
              "    .colab-df-container {\n",
              "      display:flex;\n",
              "      flex-wrap:wrap;\n",
              "      gap: 12px;\n",
              "    }\n",
              "\n",
              "    .colab-df-convert {\n",
              "      background-color: #E8F0FE;\n",
              "      border: none;\n",
              "      border-radius: 50%;\n",
              "      cursor: pointer;\n",
              "      display: none;\n",
              "      fill: #1967D2;\n",
              "      height: 32px;\n",
              "      padding: 0 0 0 0;\n",
              "      width: 32px;\n",
              "    }\n",
              "\n",
              "    .colab-df-convert:hover {\n",
              "      background-color: #E2EBFA;\n",
              "      box-shadow: 0px 1px 2px rgba(60, 64, 67, 0.3), 0px 1px 3px 1px rgba(60, 64, 67, 0.15);\n",
              "      fill: #174EA6;\n",
              "    }\n",
              "\n",
              "    [theme=dark] .colab-df-convert {\n",
              "      background-color: #3B4455;\n",
              "      fill: #D2E3FC;\n",
              "    }\n",
              "\n",
              "    [theme=dark] .colab-df-convert:hover {\n",
              "      background-color: #434B5C;\n",
              "      box-shadow: 0px 1px 3px 1px rgba(0, 0, 0, 0.15);\n",
              "      filter: drop-shadow(0px 1px 2px rgba(0, 0, 0, 0.3));\n",
              "      fill: #FFFFFF;\n",
              "    }\n",
              "  </style>\n",
              "\n",
              "      <script>\n",
              "        const buttonEl =\n",
              "          document.querySelector('#df-a8bd7057-aaf9-4340-a511-c9f8753e2448 button.colab-df-convert');\n",
              "        buttonEl.style.display =\n",
              "          google.colab.kernel.accessAllowed ? 'block' : 'none';\n",
              "\n",
              "        async function convertToInteractive(key) {\n",
              "          const element = document.querySelector('#df-a8bd7057-aaf9-4340-a511-c9f8753e2448');\n",
              "          const dataTable =\n",
              "            await google.colab.kernel.invokeFunction('convertToInteractive',\n",
              "                                                     [key], {});\n",
              "          if (!dataTable) return;\n",
              "\n",
              "          const docLinkHtml = 'Like what you see? Visit the ' +\n",
              "            '<a target=\"_blank\" href=https://colab.research.google.com/notebooks/data_table.ipynb>data table notebook</a>'\n",
              "            + ' to learn more about interactive tables.';\n",
              "          element.innerHTML = '';\n",
              "          dataTable['output_type'] = 'display_data';\n",
              "          await google.colab.output.renderOutput(dataTable, element);\n",
              "          const docLink = document.createElement('div');\n",
              "          docLink.innerHTML = docLinkHtml;\n",
              "          element.appendChild(docLink);\n",
              "        }\n",
              "      </script>\n",
              "    </div>\n",
              "  </div>\n",
              "  "
            ]
          },
          "metadata": {},
          "execution_count": 21
        }
      ]
    }
  ]
}